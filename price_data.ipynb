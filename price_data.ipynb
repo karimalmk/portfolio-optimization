{
 "cells": [
  {
   "cell_type": "markdown",
   "id": "f8b101f6",
   "metadata": {},
   "source": [
    "**Manipulating CSV File**"
   ]
  },
  {
   "cell_type": "code",
   "execution_count": null,
   "id": "2f62c9f1",
   "metadata": {},
   "outputs": [],
   "source": [
    "import pandas as pd\n",
    "import numpy as np\n",
    "import csv"
   ]
  },
  {
   "cell_type": "markdown",
   "id": "139b07a0",
   "metadata": {},
   "source": [
    "Cleaning list of list (turning into string, replacing $ and ,)"
   ]
  },
  {
   "cell_type": "code",
   "execution_count": null,
   "id": "31ad7206",
   "metadata": {},
   "outputs": [],
   "source": [
    "file = open('price_data.csv', 'r')\n",
    "readFile = csv.reader(file)\n",
    "header = next(readFile)\n",
    "priceData = list(readFile)\n",
    "\n",
    "cleanList = []\n",
    "for row in priceData:\n",
    "    cleanRow = []\n",
    "    for column in row:\n",
    "        tmp = str(column)\n",
    "        cleanRow.append(tmp.replace('$', '').replace(',', '').strip())\n",
    "    cleanList.append(cleanRow)\n",
    "\n",
    "print(cleanList)"
   ]
  },
  {
   "cell_type": "code",
   "execution_count": null,
   "id": "a2d2561a",
   "metadata": {},
   "outputs": [],
   "source": [
    "for row in cleanList:\n",
    "    del(row[0])\n",
    "\n",
    "# FIX BELOW\n",
    "priceArray = np.array(cleanList, dtype = float)\n",
    "priceArray = np.round(priceArray, 2)\n",
    "print(priceArray)\n",
    "print(type(priceArray))\n"
   ]
  },
  {
   "cell_type": "markdown",
   "id": "51117423",
   "metadata": {},
   "source": [
    "Numpy implementation"
   ]
  },
  {
   "cell_type": "code",
   "execution_count": null,
   "id": "2219ee81",
   "metadata": {},
   "outputs": [],
   "source": [
    "priceData = np.genfromtxt('price_data.csv', delimiter=',', skip_header=1, dtype=str)\n",
    "#won't be able to remove $ and , this way\n",
    "print(priceData)\n",
    "print(type(priceData))"
   ]
  },
  {
   "cell_type": "markdown",
   "id": "3f45a195",
   "metadata": {},
   "source": [
    "Pandas implementation (fastest)"
   ]
  },
  {
   "cell_type": "code",
   "execution_count": null,
   "id": "433fd69e",
   "metadata": {},
   "outputs": [],
   "source": [
    "pdReader = pd.read_csv('price_data.csv', index_col=0)\n",
    "print(pdReader)"
   ]
  },
  {
   "cell_type": "code",
   "execution_count": null,
   "id": "b8179cb9",
   "metadata": {},
   "outputs": [],
   "source": [
    "priceInd = pdReader.reset_index()\n",
    "closingPrice = priceInd['Close/Last']\n",
    "\n",
    "closingPrice = closingPrice.str.replace('$','').astype(float)\n",
    "print(closingPrice.head())\n",
    "print(closingPrice.tail())"
   ]
  },
  {
   "cell_type": "markdown",
   "id": "e52f9086",
   "metadata": {},
   "source": [
    "Calculating summary statistics of interest\n",
    "+ calculating returns"
   ]
  },
  {
   "cell_type": "code",
   "execution_count": 33,
   "id": "c7a1758e",
   "metadata": {},
   "outputs": [
    {
     "name": "stdout",
     "output_type": "stream",
     "text": [
      "-0.00118\n",
      "0.00112\n"
     ]
    }
   ],
   "source": [
    "returns = closingPrice.pct_change()\n",
    "expected_return = np.mean(returns)\n",
    "vol = np.var(returns)\n",
    "\n",
    "print(round(expected_return, 5))\n",
    "print(round(vol, 5))"
   ]
  },
  {
   "cell_type": "code",
   "execution_count": null,
   "id": "528cdd6c",
   "metadata": {},
   "outputs": [],
   "source": [
    "numeric_df = df.select_dtypes(include=\"number\")\n",
    "\n",
    "OR...\n",
    "\n",
    "from pandas.api.types import is_numeric_dtype\n",
    "\n",
    "numeric_cols = [col for col in df.columns if is_numeric_dtype(df[col])]\n",
    "print(numeric_cols)\n",
    "\n",
    "is_numeric_dtype()\n"
   ]
  }
 ],
 "metadata": {
  "kernelspec": {
   "display_name": ".venv",
   "language": "python",
   "name": "python3"
  },
  "language_info": {
   "codemirror_mode": {
    "name": "ipython",
    "version": 3
   },
   "file_extension": ".py",
   "mimetype": "text/x-python",
   "name": "python",
   "nbconvert_exporter": "python",
   "pygments_lexer": "ipython3",
   "version": "3.12.3"
  }
 },
 "nbformat": 4,
 "nbformat_minor": 5
}
